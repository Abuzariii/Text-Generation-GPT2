{
  "cells": [
    {
      "cell_type": "code",
      "execution_count": 16,
      "metadata": {
        "colab": {
          "base_uri": "https://localhost:8080/"
        },
        "id": "EpFCFs7-ihVX",
        "outputId": "762bd5a3-9268-4422-99ce-8008550001e5"
      },
      "outputs": [
        {
          "output_type": "stream",
          "name": "stdout",
          "text": [
            "Tue Oct 11 15:02:29 2022       \n",
            "+-----------------------------------------------------------------------------+\n",
            "| NVIDIA-SMI 460.32.03    Driver Version: 460.32.03    CUDA Version: 11.2     |\n",
            "|-------------------------------+----------------------+----------------------+\n",
            "| GPU  Name        Persistence-M| Bus-Id        Disp.A | Volatile Uncorr. ECC |\n",
            "| Fan  Temp  Perf  Pwr:Usage/Cap|         Memory-Usage | GPU-Util  Compute M. |\n",
            "|                               |                      |               MIG M. |\n",
            "|===============================+======================+======================|\n",
            "|   0  Tesla T4            Off  | 00000000:00:04.0 Off |                    0 |\n",
            "| N/A   34C    P8     9W /  70W |      0MiB / 15109MiB |      0%      Default |\n",
            "|                               |                      |                  N/A |\n",
            "+-------------------------------+----------------------+----------------------+\n",
            "                                                                               \n",
            "+-----------------------------------------------------------------------------+\n",
            "| Processes:                                                                  |\n",
            "|  GPU   GI   CI        PID   Type   Process name                  GPU Memory |\n",
            "|        ID   ID                                                   Usage      |\n",
            "|=============================================================================|\n",
            "|  No running processes found                                                 |\n",
            "+-----------------------------------------------------------------------------+\n"
          ]
        }
      ],
      "source": [
        "!nvidia-smi"
      ]
    },
    {
      "cell_type": "markdown",
      "metadata": {
        "id": "Y_yCw7BJnOaf"
      },
      "source": [
        "####**Installing HuggingFace Library**"
      ]
    },
    {
      "cell_type": "code",
      "execution_count": 17,
      "metadata": {
        "colab": {
          "base_uri": "https://localhost:8080/"
        },
        "id": "e_dEe3iqf3CW",
        "outputId": "e4c68d68-f8dd-4cac-9788-d04f7cd1cd47"
      },
      "outputs": [
        {
          "output_type": "stream",
          "name": "stdout",
          "text": [
            "Looking in indexes: https://pypi.org/simple, https://us-python.pkg.dev/colab-wheels/public/simple/\n",
            "Requirement already satisfied: gradio in /usr/local/lib/python3.7/dist-packages (3.4.1)\n",
            "Requirement already satisfied: fsspec in /usr/local/lib/python3.7/dist-packages (from gradio) (2022.8.2)\n",
            "Requirement already satisfied: orjson in /usr/local/lib/python3.7/dist-packages (from gradio) (3.8.0)\n",
            "Requirement already satisfied: pycryptodome in /usr/local/lib/python3.7/dist-packages (from gradio) (3.15.0)\n",
            "Requirement already satisfied: numpy in /usr/local/lib/python3.7/dist-packages (from gradio) (1.21.6)\n",
            "Requirement already satisfied: pydub in /usr/local/lib/python3.7/dist-packages (from gradio) (0.25.1)\n",
            "Requirement already satisfied: aiohttp in /usr/local/lib/python3.7/dist-packages (from gradio) (3.8.3)\n",
            "Requirement already satisfied: matplotlib in /usr/local/lib/python3.7/dist-packages (from gradio) (3.2.2)\n",
            "Requirement already satisfied: requests in /usr/local/lib/python3.7/dist-packages (from gradio) (2.23.0)\n",
            "Requirement already satisfied: python-multipart in /usr/local/lib/python3.7/dist-packages (from gradio) (0.0.5)\n",
            "Requirement already satisfied: pyyaml in /usr/local/lib/python3.7/dist-packages (from gradio) (6.0)\n",
            "Requirement already satisfied: jinja2 in /usr/local/lib/python3.7/dist-packages (from gradio) (2.11.3)\n",
            "Requirement already satisfied: uvicorn in /usr/local/lib/python3.7/dist-packages (from gradio) (0.18.3)\n",
            "Requirement already satisfied: h11<0.13,>=0.11 in /usr/local/lib/python3.7/dist-packages (from gradio) (0.12.0)\n",
            "Requirement already satisfied: ffmpy in /usr/local/lib/python3.7/dist-packages (from gradio) (0.3.0)\n",
            "Requirement already satisfied: pillow in /usr/local/lib/python3.7/dist-packages (from gradio) (7.1.2)\n",
            "Requirement already satisfied: markdown-it-py[linkify,plugins] in /usr/local/lib/python3.7/dist-packages (from gradio) (2.1.0)\n",
            "Requirement already satisfied: pydantic in /usr/local/lib/python3.7/dist-packages (from gradio) (1.9.2)\n",
            "Requirement already satisfied: fastapi in /usr/local/lib/python3.7/dist-packages (from gradio) (0.85.0)\n",
            "Requirement already satisfied: websockets in /usr/local/lib/python3.7/dist-packages (from gradio) (10.3)\n",
            "Requirement already satisfied: paramiko in /usr/local/lib/python3.7/dist-packages (from gradio) (2.11.0)\n",
            "Requirement already satisfied: pandas in /usr/local/lib/python3.7/dist-packages (from gradio) (1.3.5)\n",
            "Requirement already satisfied: httpx in /usr/local/lib/python3.7/dist-packages (from gradio) (0.23.0)\n",
            "Requirement already satisfied: async-timeout<5.0,>=4.0.0a3 in /usr/local/lib/python3.7/dist-packages (from aiohttp->gradio) (4.0.2)\n",
            "Requirement already satisfied: aiosignal>=1.1.2 in /usr/local/lib/python3.7/dist-packages (from aiohttp->gradio) (1.2.0)\n",
            "Requirement already satisfied: multidict<7.0,>=4.5 in /usr/local/lib/python3.7/dist-packages (from aiohttp->gradio) (6.0.2)\n",
            "Requirement already satisfied: asynctest==0.13.0 in /usr/local/lib/python3.7/dist-packages (from aiohttp->gradio) (0.13.0)\n",
            "Requirement already satisfied: charset-normalizer<3.0,>=2.0 in /usr/local/lib/python3.7/dist-packages (from aiohttp->gradio) (2.1.1)\n",
            "Requirement already satisfied: yarl<2.0,>=1.0 in /usr/local/lib/python3.7/dist-packages (from aiohttp->gradio) (1.8.1)\n",
            "Requirement already satisfied: attrs>=17.3.0 in /usr/local/lib/python3.7/dist-packages (from aiohttp->gradio) (22.1.0)\n",
            "Requirement already satisfied: typing-extensions>=3.7.4 in /usr/local/lib/python3.7/dist-packages (from aiohttp->gradio) (4.1.1)\n",
            "Requirement already satisfied: frozenlist>=1.1.1 in /usr/local/lib/python3.7/dist-packages (from aiohttp->gradio) (1.3.1)\n",
            "Requirement already satisfied: idna>=2.0 in /usr/local/lib/python3.7/dist-packages (from yarl<2.0,>=1.0->aiohttp->gradio) (2.10)\n",
            "Requirement already satisfied: starlette==0.20.4 in /usr/local/lib/python3.7/dist-packages (from fastapi->gradio) (0.20.4)\n",
            "Requirement already satisfied: anyio<5,>=3.4.0 in /usr/local/lib/python3.7/dist-packages (from starlette==0.20.4->fastapi->gradio) (3.6.1)\n",
            "Requirement already satisfied: sniffio>=1.1 in /usr/local/lib/python3.7/dist-packages (from anyio<5,>=3.4.0->starlette==0.20.4->fastapi->gradio) (1.3.0)\n",
            "Requirement already satisfied: certifi in /usr/local/lib/python3.7/dist-packages (from httpx->gradio) (2022.9.24)\n",
            "Requirement already satisfied: rfc3986[idna2008]<2,>=1.3 in /usr/local/lib/python3.7/dist-packages (from httpx->gradio) (1.5.0)\n",
            "Requirement already satisfied: httpcore<0.16.0,>=0.15.0 in /usr/local/lib/python3.7/dist-packages (from httpx->gradio) (0.15.0)\n",
            "Requirement already satisfied: MarkupSafe>=0.23 in /usr/local/lib/python3.7/dist-packages (from jinja2->gradio) (2.0.1)\n",
            "Requirement already satisfied: mdurl~=0.1 in /usr/local/lib/python3.7/dist-packages (from markdown-it-py[linkify,plugins]->gradio) (0.1.2)\n",
            "Requirement already satisfied: linkify-it-py~=1.0 in /usr/local/lib/python3.7/dist-packages (from markdown-it-py[linkify,plugins]->gradio) (1.0.3)\n",
            "Requirement already satisfied: mdit-py-plugins in /usr/local/lib/python3.7/dist-packages (from markdown-it-py[linkify,plugins]->gradio) (0.3.1)\n",
            "Requirement already satisfied: uc-micro-py in /usr/local/lib/python3.7/dist-packages (from linkify-it-py~=1.0->markdown-it-py[linkify,plugins]->gradio) (1.0.1)\n",
            "Requirement already satisfied: cycler>=0.10 in /usr/local/lib/python3.7/dist-packages (from matplotlib->gradio) (0.11.0)\n",
            "Requirement already satisfied: python-dateutil>=2.1 in /usr/local/lib/python3.7/dist-packages (from matplotlib->gradio) (2.8.2)\n",
            "Requirement already satisfied: pyparsing!=2.0.4,!=2.1.2,!=2.1.6,>=2.0.1 in /usr/local/lib/python3.7/dist-packages (from matplotlib->gradio) (3.0.9)\n",
            "Requirement already satisfied: kiwisolver>=1.0.1 in /usr/local/lib/python3.7/dist-packages (from matplotlib->gradio) (1.4.4)\n",
            "Requirement already satisfied: six>=1.5 in /usr/local/lib/python3.7/dist-packages (from python-dateutil>=2.1->matplotlib->gradio) (1.15.0)\n",
            "Requirement already satisfied: pytz>=2017.3 in /usr/local/lib/python3.7/dist-packages (from pandas->gradio) (2022.4)\n",
            "Requirement already satisfied: bcrypt>=3.1.3 in /usr/local/lib/python3.7/dist-packages (from paramiko->gradio) (4.0.1)\n",
            "Requirement already satisfied: cryptography>=2.5 in /usr/local/lib/python3.7/dist-packages (from paramiko->gradio) (38.0.1)\n",
            "Requirement already satisfied: pynacl>=1.0.1 in /usr/local/lib/python3.7/dist-packages (from paramiko->gradio) (1.5.0)\n",
            "Requirement already satisfied: cffi>=1.12 in /usr/local/lib/python3.7/dist-packages (from cryptography>=2.5->paramiko->gradio) (1.15.1)\n",
            "Requirement already satisfied: pycparser in /usr/local/lib/python3.7/dist-packages (from cffi>=1.12->cryptography>=2.5->paramiko->gradio) (2.21)\n",
            "Requirement already satisfied: urllib3!=1.25.0,!=1.25.1,<1.26,>=1.21.1 in /usr/local/lib/python3.7/dist-packages (from requests->gradio) (1.24.3)\n",
            "Requirement already satisfied: chardet<4,>=3.0.2 in /usr/local/lib/python3.7/dist-packages (from requests->gradio) (3.0.4)\n",
            "Requirement already satisfied: click>=7.0 in /usr/local/lib/python3.7/dist-packages (from uvicorn->gradio) (7.1.2)\n"
          ]
        }
      ],
      "source": [
        "!pip install gradio"
      ]
    },
    {
      "cell_type": "code",
      "execution_count": 18,
      "metadata": {
        "colab": {
          "base_uri": "https://localhost:8080/"
        },
        "id": "_UzBTdycfTrl",
        "outputId": "d90562e0-ec7b-4d0a-c757-500e385b5865"
      },
      "outputs": [
        {
          "output_type": "stream",
          "name": "stdout",
          "text": [
            "Looking in indexes: https://pypi.org/simple, https://us-python.pkg.dev/colab-wheels/public/simple/\n",
            "Requirement already satisfied: transformers in /usr/local/lib/python3.7/dist-packages (4.23.1)\n",
            "Requirement already satisfied: packaging>=20.0 in /usr/local/lib/python3.7/dist-packages (from transformers) (21.3)\n",
            "Requirement already satisfied: tqdm>=4.27 in /usr/local/lib/python3.7/dist-packages (from transformers) (4.64.1)\n",
            "Requirement already satisfied: requests in /usr/local/lib/python3.7/dist-packages (from transformers) (2.23.0)\n",
            "Requirement already satisfied: regex!=2019.12.17 in /usr/local/lib/python3.7/dist-packages (from transformers) (2022.6.2)\n",
            "Requirement already satisfied: huggingface-hub<1.0,>=0.10.0 in /usr/local/lib/python3.7/dist-packages (from transformers) (0.10.1)\n",
            "Requirement already satisfied: tokenizers!=0.11.3,<0.14,>=0.11.1 in /usr/local/lib/python3.7/dist-packages (from transformers) (0.13.1)\n",
            "Requirement already satisfied: numpy>=1.17 in /usr/local/lib/python3.7/dist-packages (from transformers) (1.21.6)\n",
            "Requirement already satisfied: importlib-metadata in /usr/local/lib/python3.7/dist-packages (from transformers) (5.0.0)\n",
            "Requirement already satisfied: filelock in /usr/local/lib/python3.7/dist-packages (from transformers) (3.8.0)\n",
            "Requirement already satisfied: pyyaml>=5.1 in /usr/local/lib/python3.7/dist-packages (from transformers) (6.0)\n",
            "Requirement already satisfied: typing-extensions>=3.7.4.3 in /usr/local/lib/python3.7/dist-packages (from huggingface-hub<1.0,>=0.10.0->transformers) (4.1.1)\n",
            "Requirement already satisfied: pyparsing!=3.0.5,>=2.0.2 in /usr/local/lib/python3.7/dist-packages (from packaging>=20.0->transformers) (3.0.9)\n",
            "Requirement already satisfied: zipp>=0.5 in /usr/local/lib/python3.7/dist-packages (from importlib-metadata->transformers) (3.8.1)\n",
            "Requirement already satisfied: idna<3,>=2.5 in /usr/local/lib/python3.7/dist-packages (from requests->transformers) (2.10)\n",
            "Requirement already satisfied: urllib3!=1.25.0,!=1.25.1,<1.26,>=1.21.1 in /usr/local/lib/python3.7/dist-packages (from requests->transformers) (1.24.3)\n",
            "Requirement already satisfied: certifi>=2017.4.17 in /usr/local/lib/python3.7/dist-packages (from requests->transformers) (2022.9.24)\n",
            "Requirement already satisfied: chardet<4,>=3.0.2 in /usr/local/lib/python3.7/dist-packages (from requests->transformers) (3.0.4)\n"
          ]
        }
      ],
      "source": [
        "!pip install transformers"
      ]
    },
    {
      "cell_type": "markdown",
      "metadata": {
        "id": "4GY8Cx1qnUDf"
      },
      "source": [
        "####**Importing the Library**"
      ]
    },
    {
      "cell_type": "code",
      "execution_count": 19,
      "metadata": {
        "id": "Z_UcByaUfW80"
      },
      "outputs": [],
      "source": [
        "from transformers import GPT2LMHeadModel, GPT2Tokenizer"
      ]
    },
    {
      "cell_type": "markdown",
      "metadata": {
        "id": "cgulepwcnX0R"
      },
      "source": [
        "####**Initiating the GPT-2 Tokenizer and GPT-2 Model**"
      ]
    },
    {
      "cell_type": "code",
      "execution_count": 20,
      "metadata": {
        "id": "5UY4Su36fW5E"
      },
      "outputs": [],
      "source": [
        "tokenizer = GPT2Tokenizer.from_pretrained(\"gpt2-large\")\n",
        "model = GPT2LMHeadModel.from_pretrained(\"gpt2-large\", pad_token_id=tokenizer.eos_token_id)"
      ]
    },
    {
      "cell_type": "markdown",
      "metadata": {
        "id": "ffHSOttsnsA_"
      },
      "source": [
        "####**Finally Decoding the Generated Output**"
      ]
    },
    {
      "cell_type": "code",
      "execution_count": 25,
      "metadata": {
        "colab": {
          "base_uri": "https://localhost:8080/"
        },
        "id": "yP5t3cCPAwhV",
        "outputId": "4cf19bdb-f5d7-4ff9-ea46-eb0fec9074a9"
      },
      "outputs": [
        {
          "output_type": "stream",
          "name": "stderr",
          "text": [
            "Setting `pad_token_id` to `eos_token_id`:50256 for open-end generation.\n"
          ]
        },
        {
          "output_type": "execute_result",
          "data": {
            "text/plain": [
              "[{'generated_text': 'Lionel Messi has been ridiculously good at Barcelona, and he was the only player to score in the Spanish Cup semi-final between Sevilla and Parma on Sunday.\\n\\nThe two-time European Cup runner-up has made 18 appearances at Barcelona\\'s La Liga side, scoring his 2nd international goal after completing a new five-year contract following a successful stint at the Bernabeu.\\n\\nBut with an impressive record in the Camp Nou, he has not looked at all good on the international stage.\\n\\n\"I think there is real good reason why I came here,\" he said at his home before his return to the Camp Nou.\\n\\n\"I worked and experienced the game because it was a hard league for me, as a young player to get there. When you go to the big clubs you work hard and get to see your talent and make great friends.\\n\\n\"In my time here, I feel at home at Camp Nou. I have won some'}]"
            ]
          },
          "metadata": {},
          "execution_count": 25
        }
      ],
      "source": [
        "from transformers import pipeline, set_seed\n",
        "generator = pipeline('text-generation', model='gpt2')\n",
        "set_seed(42)\n",
        "generator(\"Lionel Messi has been ridiculously good at Barcelona\", max_length=200, num_return_sequences=1)"
      ]
    },
    {
      "cell_type": "code",
      "execution_count": 26,
      "metadata": {
        "colab": {
          "base_uri": "https://localhost:8080/"
        },
        "id": "H2IpMugUBS6P",
        "outputId": "949b6671-e0a5-4d98-c92f-9e97f7d5d850"
      },
      "outputs": [
        {
          "output_type": "stream",
          "name": "stderr",
          "text": [
            "Setting `pad_token_id` to `eos_token_id`:50256 for open-end generation.\n"
          ]
        },
        {
          "output_type": "stream",
          "name": "stdout",
          "text": [
            "Balerion the dread was the largest dragon in westeros's history, though it was never encountered (in The Lost Republic the dragon's origin was never known).\n",
            "\n",
            "In Warhammer 40,000 I had a small part of the war-fleet, but I left the rest untouched, perhaps forgotten by future generations. I have forgotten how long after then I left the Legion; its power and ability to conquer an area is still quite interesting. I had the greatest part of the war fleet as the main defender, but it would be a great feat to leave one of my dragons alone. The Lost Republic is the only setting in WH where you can see how far the Alliance will go to take control of the galaxy.\n",
            "\n",
            "One of the best things about The Lost Republic is it shows how far we can go, how far away we are from the edge of my vision. The Legion was founded on the back of massive battleships, but we had only limited space to deal with them. I\n"
          ]
        }
      ],
      "source": [
        "text1 = generator(\"Balerion the dread was the largest dragon in westeros's history\", max_length=200, num_return_sequences=1)\n",
        "print(text1[0].get('generated_text'))"
      ]
    },
    {
      "cell_type": "code",
      "execution_count": 27,
      "metadata": {
        "colab": {
          "base_uri": "https://localhost:8080/"
        },
        "id": "4cdKU7YDCKaA",
        "outputId": "60500ea5-a035-4536-aa77-ab0d8278fa13"
      },
      "outputs": [
        {
          "output_type": "stream",
          "name": "stderr",
          "text": [
            "Setting `pad_token_id` to `eos_token_id`:50256 for open-end generation.\n"
          ]
        },
        {
          "output_type": "stream",
          "name": "stdout",
          "text": [
            "Pakistani military is a rogue state that seeks to overthrow the Afghan government and destroy it. The CIA and the Pentagon continue the CIA's policy of pursuing an all-out war against Afghanistan to this day.\n",
            "\n",
            "The US continues its systematic and covert surveillance of our country. CIA and allied intelligence agencies continue their extensive effort to control our political and military representatives and foreign and domestic leaders. US companies' interests – and our freedoms – are at greater risk with the increasing influence of these covert agencies. Our intelligence agencies share the goal of overthrowing the Taliban. But these foreign governments and organizations are also conducting operations that could have a very serious implications. For example, the US military's activities in Iraq and Afghanistan are now under investigation by the FBI, the NSA, CIA, Congress, and by our foreign intelligence intelligence authorities.\n",
            "\n",
            "We have seen the \"war on terror\" over the past few years. American police, prosecutors, judges, military and foreign human rights courts have been repeatedly targeted by our\n"
          ]
        }
      ],
      "source": [
        "text1 = generator(\"Pakistani military is a rogue state\", max_length=200, num_return_sequences=1)\n",
        "print(text1[0].get('generated_text'))"
      ]
    },
    {
      "cell_type": "code",
      "execution_count": 28,
      "metadata": {
        "colab": {
          "base_uri": "https://localhost:8080/"
        },
        "id": "mdS8OcpBC-Ej",
        "outputId": "a81bdb54-d6f3-46ef-b2cb-729b57bd503d"
      },
      "outputs": [
        {
          "output_type": "stream",
          "name": "stderr",
          "text": [
            "Setting `pad_token_id` to `eos_token_id`:50256 for open-end generation.\n"
          ]
        },
        {
          "output_type": "stream",
          "name": "stdout",
          "text": [
            "I love eating pussy, watching her roll her eyes during orgasm is so pleasing.\" You can't have people just looking at you and thinking like that and talking about them. I'm sorry the guy doesn't like me too much…and I love fucking you. I'm willing to give you my time to fuck for you. Thank you all for taking care of your son, as much as you did. I'm happy with the amount of time spent with you. Please enjoy my sexy pussy and cock for the rest of your hard days in the woods.\n",
            "\n",
            "You really love being with my dad…I think it will be a love bond and I'd love to know where you have found your mom. We'll get to where he is. Please remember to check your phone periodically\n",
            "\n",
            "\"Pussy I'm afraid you were overstimulated. I'm sure any man wouldn't have heard the screams.\" You need to get back to a room when you'll get back to your dorm room\n"
          ]
        }
      ],
      "source": [
        "text1 = generator(\"I love eating pussy, watching her roll her eyes during orgasm is so pleasing\", max_length=200, num_return_sequences=1)\n",
        "print(text1[0].get('generated_text'))"
      ]
    },
    {
      "cell_type": "code",
      "execution_count": 29,
      "metadata": {
        "colab": {
          "base_uri": "https://localhost:8080/"
        },
        "id": "drrcLxkYDSPJ",
        "outputId": "5ae10191-43f2-4f49-f173-074d8c895a4a"
      },
      "outputs": [
        {
          "output_type": "stream",
          "name": "stderr",
          "text": [
            "Setting `pad_token_id` to `eos_token_id`:50256 for open-end generation.\n"
          ]
        },
        {
          "output_type": "stream",
          "name": "stdout",
          "text": [
            "I fucked a dog yesterday, I wasn't good at it,\" she says. \"Did I do drugs?\" she asks him. \"And did I die?\" \"Not on drug use, because I don't think I smoked cocaine because I don't really know.\"\n",
            "\n",
            "Derek Drexler is more candid with the idea of being a drug-free man.\n",
            "\n",
            "\"In general there [are] certain types of drugs that you should or are going to use in a sober manner, and we take that into consideration,\" he says. \"You have to look at the whole spectrum and I think that probably isn't a good first choice for all kinds of people and any drug.\"\n",
            "\n",
            "\"When can I use drugs?\" Drexler asks Dukes. \"When you look at the whole range of possible outcomes and do you want to do these things?\"\n",
            "\n",
            "Drexler and Coyle have talked about how their experiences as people, how their experiences as professionals, gave them\n"
          ]
        }
      ],
      "source": [
        "text1 = generator(\"I fucked a dog yesterday\", max_length=200, num_return_sequences=1)\n",
        "print(text1[0].get('generated_text'))"
      ]
    },
    {
      "cell_type": "code",
      "execution_count": 30,
      "metadata": {
        "colab": {
          "base_uri": "https://localhost:8080/"
        },
        "id": "mjGqtdutDcCN",
        "outputId": "d9cd49dc-ddd8-4cdf-ce9a-a079a5fa441b"
      },
      "outputs": [
        {
          "output_type": "stream",
          "name": "stderr",
          "text": [
            "Setting `pad_token_id` to `eos_token_id`:50256 for open-end generation.\n"
          ]
        },
        {
          "output_type": "stream",
          "name": "stdout",
          "text": [
            "Pedophilia (Burgosca)\n",
            "\n",
            "The term Burgosca is widely used by those with a history of schizophrenia and is used to describe psychotic episodes on the disorder that can last for days of their lives. Patients with psychosis in their late teens may be at a higher risk than those without schizophrenia; for example, those with mild to severe psychotic symptoms, but no prior history (e.g., paranoia), tend to have a higher prevalence of Burgosca than those without schizophrenia. It typically takes two to three years for a patient with this diagnosis to undergo treatment, with the likelihood being greater for someone else with schizophrenia.\n",
            "\n",
            "While the Burgosca diagnosis requires a family history of psychosis and schizophrenia, it is possible that some of the early symptoms can occur from both sides of the gut (referring to inflammation of the cerebrum, myelocytes or amyloid cysts), although it remains unclear if this is true for all people or only for those with\n"
          ]
        }
      ],
      "source": [
        "text1 = generator(\"Pedophilia\", max_length=200, num_return_sequences=1)\n",
        "print(text1[0].get('generated_text'))"
      ]
    },
    {
      "cell_type": "code",
      "source": [
        "def generate_text(prompt):\n",
        "    text1 = generator(prompt, max_length=500, num_return_sequences=1)\n",
        "    return text1[0].get('generated_text')"
      ],
      "metadata": {
        "id": "St0Yracftt99"
      },
      "execution_count": 35,
      "outputs": []
    },
    {
      "cell_type": "code",
      "source": [
        "generate_text(\"Australian rainforests\")"
      ],
      "metadata": {
        "colab": {
          "base_uri": "https://localhost:8080/",
          "height": 140
        },
        "id": "y09QHvs2uuKC",
        "outputId": "7be2210c-c38d-498a-dbcd-70638ad39f83"
      },
      "execution_count": 36,
      "outputs": [
        {
          "output_type": "stream",
          "name": "stderr",
          "text": [
            "Setting `pad_token_id` to `eos_token_id`:50256 for open-end generation.\n"
          ]
        },
        {
          "output_type": "execute_result",
          "data": {
            "text/plain": [
              "'Australian rainforests. If there is no climate change to cut it out, those will be the world\\'s greatest reserves of carbon dioxide, which could provide both a steady stream of new carbon-to-sustainability flows from one of the greatest producers of carbon in the world.\\n\\nThe global climate will soon become less of a problem when we come to think about our own future. We will have more time, energy and resources to do this. We will have made much better and more sustainable choices in the past 10 years.\\n\\nWe can\\'t be too pessimistic about the future\\'s trajectory. The planet hasn\\'t progressed as fast in 10 million years just as many other places on Earth do. In fact, the average lifespan of the earth is so short that no one is sure whether there can be a global warming crisis from now to at least 3050 by 2040.\\n\\nOur problem is that we have been making decisions about how we want our carbon-to-sustainability priorities reflected in our long and varied human experiences. As long as we don\\'t want to believe those are our longterm goals, and continue the assumption that life will be on the rise, life is an illusion and life isn\\'t possible unless there is some kind of change.\\n\\nThe world needs an alternative to the current climate. The climate change debate has raged from one end of the spectrum to the other, both in science and technology. If no radical change could be made by 1060 or 2070, who needs \"alternative\" scenarios? How can we possibly move forward? It takes a while, and it could come very soon.\\n\\nIt takes time — all time.'"
            ],
            "application/vnd.google.colaboratory.intrinsic+json": {
              "type": "string"
            }
          },
          "metadata": {},
          "execution_count": 36
        }
      ]
    },
    {
      "cell_type": "code",
      "execution_count": 39,
      "metadata": {
        "colab": {
          "base_uri": "https://localhost:8080/",
          "height": 678
        },
        "id": "SAjM-wX3Difm",
        "outputId": "e18b3d07-11b1-41b7-d22a-08cac2f26132"
      },
      "outputs": [
        {
          "output_type": "stream",
          "name": "stderr",
          "text": [
            "/usr/local/lib/python3.7/dist-packages/gradio/interface.py:328: UserWarning: Currently, only the 'default' theme is supported.\n",
            "  warnings.warn(\"Currently, only the 'default' theme is supported.\")\n"
          ]
        },
        {
          "output_type": "stream",
          "name": "stdout",
          "text": [
            "Colab notebook detected. To show errors in colab notebook, set `debug=True` in `launch()`\n",
            "Running on public URL: https://16269.gradio.app\n",
            "\n",
            "This share link expires in 72 hours. For free permanent hosting, check out Spaces: https://huggingface.co/spaces\n"
          ]
        },
        {
          "output_type": "display_data",
          "data": {
            "text/plain": [
              "<IPython.core.display.HTML object>"
            ],
            "text/html": [
              "<div><iframe src=\"https://16269.gradio.app\" width=\"900\" height=\"500\" allow=\"autoplay; camera; microphone; clipboard-read; clipboard-write;\" frameborder=\"0\" allowfullscreen></iframe></div>"
            ]
          },
          "metadata": {}
        },
        {
          "output_type": "execute_result",
          "data": {
            "text/plain": [
              "(<gradio.routes.App at 0x7fe01d8ee610>,\n",
              " 'http://127.0.0.1:7864/',\n",
              " 'https://16269.gradio.app')"
            ]
          },
          "metadata": {},
          "execution_count": 39
        }
      ],
      "source": [
        "import gradio as gr\n",
        "\n",
        "gr.Interface(\n",
        "    title = 'Text Generation using GPT 2', \n",
        "    fn=generate_text, \n",
        "    inputs=gr.Textbox(placeholder=\"Type Here...\"),\n",
        "    outputs=[\n",
        "        \"text\"\n",
        "    ],\n",
        "    theme = 'darkhuggingface').launch()"
      ]
    },
    {
      "cell_type": "code",
      "source": [],
      "metadata": {
        "id": "OgobL-ytuKKH"
      },
      "execution_count": null,
      "outputs": []
    }
  ],
  "metadata": {
    "accelerator": "GPU",
    "colab": {
      "collapsed_sections": [],
      "provenance": []
    },
    "kernelspec": {
      "display_name": "Python 3",
      "name": "python3"
    },
    "language_info": {
      "name": "python"
    }
  },
  "nbformat": 4,
  "nbformat_minor": 0
}